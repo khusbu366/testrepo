{
 "cells": [
  {
   "cell_type": "markdown",
   "id": "3514463c-7862-4379-8f64-5a7fbfa83c9b",
   "metadata": {},
   "source": [
    "|My Jupyter notebook on IBM Watson studio|\n",
    "|----------------------------------------|"
   ]
  },
  {
   "cell_type": "markdown",
   "id": "ee23e9df-e8b1-4020-95fe-62f1acc8bcdb",
   "metadata": {},
   "source": [
    "KHUSBU SAH\n",
    "\n",
    "Hi, I am a medical Professional. \n"
   ]
  },
  {
   "cell_type": "markdown",
   "id": "27d6ee44-1769-4935-8d70-38e6278dfa25",
   "metadata": {},
   "source": [
    "*I am interested in data science to enhance my knowledge and to gain insights of data. I believe that this introduction to data science course will help me amplify my career in a better way. Also, it will boost my mastery in providing a better care to residents.*"
   ]
  },
  {
   "cell_type": "markdown",
   "id": "5f15091d-ac1e-4909-b051-6e81a1567d60",
   "metadata": {},
   "source": [
    "### The code in cell 5 shows the multiplication of 3"
   ]
  },
  {
   "cell_type": "code",
   "execution_count": 6,
   "id": "9450fd5a-456f-4e9e-867a-5c1d7ac70c48",
   "metadata": {},
   "outputs": [
    {
     "data": {
      "text/plain": [
       "6"
      ]
     },
     "execution_count": 6,
     "metadata": {},
     "output_type": "execute_result"
    }
   ],
   "source": [
    "3*2"
   ]
  },
  {
   "cell_type": "markdown",
   "id": "7501a6d3-7770-41e6-ab3b-2a9b153920fa",
   "metadata": {},
   "source": [
    "1.\n",
    "2.\n",
    "3.\n",
    "\n",
    "__\n",
    "\n",
    "< syntax >\n",
    "\n",
    "* one\n",
    "* two\n",
    "* three\n",
    "\n",
    "|table 1 | table2 |table 3|\n",
    "| ------ | ------ | ----- |\n",
    "| Markdown | less | preety |\n",
    "\n",
    "''' python\n",
    "\n",
    "www.ibm.com"
   ]
  },
  {
   "cell_type": "code",
   "execution_count": null,
   "id": "370c62ee-89e7-4116-8f54-8e50124f88d8",
   "metadata": {},
   "outputs": [],
   "source": []
  }
 ],
 "metadata": {
  "kernelspec": {
   "display_name": "Python",
   "language": "python",
   "name": "conda-env-python-py"
  },
  "language_info": {
   "codemirror_mode": {
    "name": "ipython",
    "version": 3
   },
   "file_extension": ".py",
   "mimetype": "text/x-python",
   "name": "python",
   "nbconvert_exporter": "python",
   "pygments_lexer": "ipython3",
   "version": "3.7.12"
  }
 },
 "nbformat": 4,
 "nbformat_minor": 5
}
